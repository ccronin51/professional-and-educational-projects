{
 "cells": [
  {
   "cell_type": "markdown",
   "metadata": {},
   "source": [
    "# Preliminaries"
   ]
  },
  {
   "cell_type": "code",
   "execution_count": 1,
   "metadata": {
    "collapsed": false
   },
   "outputs": [],
   "source": [
    "# General data and plotting\n",
    "import json\n",
    "import datetime as dt\n",
    "import pandas as pd\n",
    "import numpy as np\n",
    "import matplotlib as mpl\n",
    "import matplotlib.pyplot as plt\n",
    "import seaborn as sns\n",
    "import os\n",
    "%matplotlib inline"
   ]
  },
  {
   "cell_type": "markdown",
   "metadata": {},
   "source": [
    "# Get Data"
   ]
  },
  {
   "cell_type": "code",
   "execution_count": 2,
   "metadata": {
    "collapsed": false
   },
   "outputs": [],
   "source": [
    "# Get Data and Format File\n",
    "\n",
    "# get file\n",
    "JsonFile = open('rideshare_user_history.json', 'r').read()  # reads text of file as string\n",
    "JsonLoad = json.loads(JsonFile)  # converts string to parsed json\n",
    "\n",
    "# convert list of dictionaries to pd.Dataframe\n",
    "Df = pd.DataFrame(JsonLoad)"
   ]
  },
  {
   "cell_type": "markdown",
   "metadata": {},
   "source": [
    "# Prepare Data"
   ]
  },
  {
   "cell_type": "markdown",
   "metadata": {},
   "source": [
    "### convert types"
   ]
  },
  {
   "cell_type": "code",
   "execution_count": 3,
   "metadata": {
    "collapsed": false
   },
   "outputs": [],
   "source": [
    "# dates\n",
    "Df['last_trip_date'] = pd.to_datetime(Df['last_trip_date'])\n",
    "Df['signup_date'] = pd.to_datetime(Df['signup_date'])\n",
    "\n",
    "# create target variable (based on date field)\n",
    "TimeCutoff = Df['last_trip_date'].max() - dt.timedelta(days=30)\n",
    "Df['churn'] = np.where(Df['last_trip_date'] < TimeCutoff, 1, 0)\n",
    "\n",
    "# convert dates to numeric\n",
    "date_diff = (Df['signup_date'] - Df['signup_date'].min())\n",
    "Df['days_from_first_signup'] = date_diff.astype('timedelta64[D]').astype('float')\n",
    "\n",
    "# categorical\n",
    "Df['city'] = Df['city'].astype('category')\n",
    "Df['phone'] = Df['phone'].astype('category')\n",
    "\n",
    "# boolean\n",
    "Df['black_car_user'] = np.where(Df['black_car_user'] == True, 1, 0)\n",
    "\n",
    "# continuous (percents)\n",
    "Df['weekday_pct'] = Df['weekday_pct'].astype('float')/100\n",
    "Df['surge_pct'] = Df['surge_pct'].astype('float')/100\n",
    "Df['trips_in_first_30_days'] = Df['trips_in_first_30_days'].astype(np.float)"
   ]
  },
  {
   "cell_type": "markdown",
   "metadata": {},
   "source": [
    "### impute values"
   ]
  },
  {
   "cell_type": "code",
   "execution_count": 5,
   "metadata": {
    "collapsed": false
   },
   "outputs": [],
   "source": [
    "# rating of driver\n",
    "ImpValArod = Df['avg_rating_of_driver'].mean()\n",
    "Df['avg_rating_of_driver'] = Df['avg_rating_of_driver'].fillna(ImpValArod)\n",
    "\n",
    "# phone\n",
    "ImpValPhone = 'Other'\n",
    "Col = Df['phone'].cat.add_categories(ImpValPhone)\n",
    "Col = Col.fillna(ImpValPhone)\n",
    "Df['phone'] = Col\n",
    "\n",
    "# rating by driver\n",
    "ImpValArbd = Df['avg_rating_by_driver'].mean()\n",
    "Df['avg_rating_by_driver'] = Df['avg_rating_by_driver'].fillna(ImpValArbd)"
   ]
  },
  {
   "cell_type": "markdown",
   "metadata": {},
   "source": [
    "# Feature Scaling and Preprocessing"
   ]
  },
  {
   "cell_type": "code",
   "execution_count": 6,
   "metadata": {
    "collapsed": false
   },
   "outputs": [],
   "source": [
    "# isolate target\n",
    "y = np.where(Df['churn'] == True, 1, 0)\n",
    "\n",
    "# dummify category variables\n",
    "onehot = pd.get_dummies(Df[['phone', 'city']])\n",
    "Df = pd.concat([Df, onehot], axis=1)\n",
    "\n",
    "# drop unneeded fields\n",
    "to_drop = ['signup_date','last_trip_date', 'phone', 'city', 'churn']\n",
    "Df = Df.drop(to_drop, axis=1)"
   ]
  },
  {
   "cell_type": "code",
   "execution_count": 7,
   "metadata": {
    "collapsed": false
   },
   "outputs": [],
   "source": [
    "from sklearn import preprocessing\n",
    "# convert dataframe to tensors (vectors and matrices)\n",
    "\n",
    "# convert continuous variables to standard scalar\n",
    "scaler = preprocessing.StandardScaler()\n",
    "features_cont = Df.dtypes[Df.dtypes.values == 'float64'].index.tolist()\n",
    "X_cont = Df[features_cont].as_matrix().astype(np.float)\n",
    "X_cont = scaler.fit_transform(X_cont)\n",
    "\n",
    "# create boolean features \n",
    "features_bool = Df.dtypes[Df.dtypes.values != 'float64'].index.tolist()\n",
    "X_bool = Df[features_bool].as_matrix().astype(np.float)\n",
    "\n",
    "# aggregate features\n",
    "features = features_cont + features_bool\n",
    "X = np.hstack([X_cont, X_bool])\n",
    "\n",
    "# create dataframe\n",
    "DfScaled = pd.DataFrame(X, columns=features)\n",
    "DfScaled['churn'] = y"
   ]
  },
  {
   "cell_type": "markdown",
   "metadata": {
    "collapsed": true
   },
   "source": [
    "# Tuning Random Forest"
   ]
  },
  {
   "cell_type": "markdown",
   "metadata": {},
   "source": [
    "### baseline accuracy"
   ]
  },
  {
   "cell_type": "code",
   "execution_count": 8,
   "metadata": {
    "collapsed": false
   },
   "outputs": [
    {
     "name": "stdout",
     "output_type": "stream",
     "text": [
      "0.62392\n"
     ]
    }
   ],
   "source": [
    "# get ZeroR accuracy\n",
    "print y.mean()"
   ]
  },
  {
   "cell_type": "code",
   "execution_count": 9,
   "metadata": {
    "collapsed": false
   },
   "outputs": [
    {
     "name": "stderr",
     "output_type": "stream",
     "text": [
      "/Users/Cronin/anaconda/lib/python2.7/site-packages/sklearn/cross_validation.py:44: DeprecationWarning: This module was deprecated in version 0.18 in favor of the model_selection module into which all the refactored classes and functions are moved. Also note that the interface of the new CV iterators are different from that of this module. This module will be removed in 0.20.\n",
      "  \"This module will be removed in 0.20.\", DeprecationWarning)\n"
     ]
    },
    {
     "name": "stdout",
     "output_type": "stream",
     "text": [
      "Training accuracy: 0.9864\n",
      "Test accuracy: 0.753\n"
     ]
    }
   ],
   "source": [
    "from sklearn.cross_validation import train_test_split\n",
    "from sklearn.ensemble import RandomForestClassifier\n",
    "\n",
    "# get rf accuracy with out of box settings\n",
    "X_train, X_test, y_train, y_test = train_test_split(X, y, test_size=0.2, random_state=1)\n",
    "rf = RandomForestClassifier(n_jobs=-1, random_state=0)\n",
    "rf.fit(X_train, y_train)\n",
    "y_pred_rf = rf.predict(X_test)\n",
    "\n",
    "print 'Training accuracy:', round(rf.score(X_train, y_train), 4)\n",
    "print 'Test accuracy:', round(rf.score(X_test, y_test), 4)"
   ]
  },
  {
   "cell_type": "markdown",
   "metadata": {},
   "source": [
    "### k-fold cross validation accuracy"
   ]
  },
  {
   "cell_type": "code",
   "execution_count": 19,
   "metadata": {
    "collapsed": false
   },
   "outputs": [
    {
     "name": "stdout",
     "output_type": "stream",
     "text": [
      "CV accuracy scores: [ 0.74865027  0.75824835  0.74705059  0.74985003  0.7454      0.7498\n",
      "  0.75195039  0.76075215  0.76195239  0.74874975]\n",
      "CV accuracy: 0.752 +/- 0.006\n"
     ]
    }
   ],
   "source": [
    "from sklearn.model_selection import cross_val_score\n",
    "\n",
    "# efficient cv code\n",
    "scores = cross_val_score(estimator=rf, X=X, y=y, cv=10, n_jobs=-1)\n",
    "print('CV accuracy scores: %s' % scores)\n",
    "print('CV accuracy: %.3f +/- %.3f' % (np.mean(scores), np.std(scores)))"
   ]
  },
  {
   "cell_type": "markdown",
   "metadata": {},
   "source": [
    "### other metrics"
   ]
  },
  {
   "cell_type": "code",
   "execution_count": 14,
   "metadata": {
    "collapsed": false
   },
   "outputs": [
    {
     "name": "stdout",
     "output_type": "stream",
     "text": [
      "Key Metrics \n",
      "******************\n",
      "Accuracy: 0.753\n",
      "ROC AUC: 0.741\n",
      "Classification Report: \n",
      "\n",
      "              precision    recall  f1-score   support\n",
      "\n",
      "          0       0.67      0.69      0.68      3822\n",
      "          1       0.80      0.79      0.80      6178\n",
      "\n",
      "avg / total       0.75      0.75      0.75     10000\n",
      "\n"
     ]
    }
   ],
   "source": [
    "from sklearn import metrics\n",
    "\n",
    "# Accuracy, AUC, Precision, Recall, F1\n",
    "print 'Key Metrics \\n******************'\n",
    "print 'Accuracy: %.3f' % metrics.accuracy_score(y_true=y_test, y_pred=y_pred_rf)\n",
    "print 'ROC AUC: %.3f' % metrics.roc_auc_score(y_true=y_test, y_score=y_pred_rf)\n",
    "print 'Classification Report: \\n\\n {0}'.format(metrics.classification_report(y_test, y_pred_rf))"
   ]
  },
  {
   "cell_type": "markdown",
   "metadata": {},
   "source": [
    "# Bias/Variance and Accuracy"
   ]
  },
  {
   "cell_type": "markdown",
   "metadata": {},
   "source": [
    "### learning curves"
   ]
  },
  {
   "cell_type": "code",
   "execution_count": 12,
   "metadata": {
    "collapsed": true
   },
   "outputs": [],
   "source": [
    "# tells you how accurate model becomes with more data\n",
    "from sklearn.model_selection import learning_curve\n",
    "\n",
    "# create cv estimates for range of train_sizes\n",
    "train_sizes, train_scores, test_scores = \\\n",
    "    learning_curve(\n",
    "        estimator=rf,\n",
    "        X=X,\n",
    "        y=y,\n",
    "        train_sizes=np.linspace(0.1, 1.0, 10),\n",
    "        cv=10,\n",
    "        n_jobs=-1\n",
    "        )\n",
    "\n",
    "# get mean + sd, and plot\n",
    "train_mean_lc = np.mean(train_scores, axis=1)\n",
    "train_std_lc = np.std(train_scores, axis=1)\n",
    "test_mean_lc = np.mean(test_scores, axis=1)\n",
    "test_std_lc = np.std(test_scores, axis=1)"
   ]
  },
  {
   "cell_type": "code",
   "execution_count": 13,
   "metadata": {
    "collapsed": false
   },
   "outputs": [
    {
     "data": {
      "image/png": "[encoded data removed]",
      "text/plain": [
       "<matplotlib.figure.Figure at 0x1243c8e90>"
      ]
     },
     "metadata": {},
     "output_type": "display_data"
    }
   ],
   "source": [
    "train_mean = train_mean_lc; train_std = train_std_lc\n",
    "test_mean = test_mean_lc; test_std = test_std_lc\n",
    "\n",
    "# plot both curves\n",
    "plt.figure(figsize=(8,5))  # graph size\n",
    "\n",
    "plt.plot(train_sizes, train_mean,  # training data\n",
    "         color='blue', marker='o',\n",
    "         markersize=5, label='training accuracy')\n",
    "\n",
    "plt.fill_between(train_sizes,  # training data ranges\n",
    "                 train_mean + train_std,\n",
    "                 train_mean - train_std,\n",
    "                 alpha=0.15, color='blue')\n",
    "\n",
    "plt.plot(train_sizes, test_mean,  # test data\n",
    "         color='green', linestyle='--',\n",
    "         marker='s', markersize=5,\n",
    "         label='validation accuracy')\n",
    "\n",
    "plt.fill_between(train_sizes,  # test data ranges\n",
    "                 test_mean + test_std,\n",
    "                 test_mean - test_std,\n",
    "                 alpha=0.15, color='green')\n",
    "\n",
    "# formatting\n",
    "plt.xlabel('Number of training examples'); plt.ylabel('Accuracy')\n",
    "plt.ylim(0.5, 1.05)\n",
    "plt.legend(loc='lower right'); plt.tight_layout()"
   ]
  },
  {
   "cell_type": "code",
   "execution_count": 14,
   "metadata": {
    "collapsed": false
   },
   "outputs": [
    {
     "data": {
      "image/png": "[encoded data removed]",
      "text/plain": [
       "<matplotlib.figure.Figure at 0x1243a3350>"
      ]
     },
     "metadata": {},
     "output_type": "display_data"
    }
   ],
   "source": [
    "# plot validation curve-only\n",
    "plt.figure(figsize=(8,5))  # graph size\n",
    "\n",
    "plt.plot(train_sizes, test_mean,  # test data\n",
    "         color='green', linestyle='--',\n",
    "         marker='s', markersize=5,\n",
    "         label='validation accuracy')\n",
    "\n",
    "plt.fill_between(train_sizes,  # test data ranges\n",
    "                 test_mean + test_std,\n",
    "                 test_mean - test_std,\n",
    "                 alpha=0.15, color='green')\n",
    "\n",
    "# formatting\n",
    "plt.xlabel('Number of training examples'); plt.ylabel('Accuracy')\n",
    "plt.ylim(0.7, 0.8)\n",
    "plt.legend(loc='lower right'); plt.tight_layout()"
   ]
  },
  {
   "cell_type": "markdown",
   "metadata": {},
   "source": [
    "### validation curve"
   ]
  },
  {
   "cell_type": "code",
   "execution_count": 23,
   "metadata": {
    "collapsed": false
   },
   "outputs": [],
   "source": [
    "# addresses over/underfitting with different parameter estimates\n",
    "from sklearn.model_selection import validation_curve\n",
    "\n",
    "# Validation Curve: iterate through levels of a parameter to see impact on accuracy\n",
    "#   Uses CV to get ranges of accuracy scores\n",
    "param_range = [10, 20, 50, 75, 100, 250, 500]\n",
    "\n",
    "# get cross validation scores\n",
    "train_scores, test_scores = \\\n",
    "    validation_curve(estimator=rf,\n",
    "                     X=X,\n",
    "                     y=y,\n",
    "                     param_name='n_estimators',\n",
    "                     param_range=param_range,\n",
    "                     cv=10)\n",
    "\n",
    "# get mean + sd, and plot\n",
    "train_mean_vc = np.mean(train_scores, axis=1)\n",
    "train_std_vc = np.std(train_scores, axis=1)\n",
    "test_mean_vc = np.mean(test_scores, axis=1)\n",
    "test_std_vc = np.std(test_scores, axis=1)"
   ]
  },
  {
   "cell_type": "code",
   "execution_count": 24,
   "metadata": {
    "collapsed": false
   },
   "outputs": [
    {
     "data": {
      "image/png": "[encoded data removed]",
      "text/plain": [
       "<matplotlib.figure.Figure at 0x118126e50>"
      ]
     },
     "metadata": {},
     "output_type": "display_data"
    }
   ],
   "source": [
    "train_mean = train_mean_vc; train_std = train_std_vc\n",
    "test_mean = test_mean_vc; test_std = test_std_vc\n",
    "\n",
    "# plot both curves\n",
    "plt.plot(param_range, train_mean, \n",
    "         color='blue', marker='o', \n",
    "         markersize=5, label='training accuracy')\n",
    "\n",
    "plt.fill_between(param_range, train_mean + train_std,\n",
    "                 train_mean - train_std, alpha=0.15,\n",
    "                 color='blue')\n",
    "\n",
    "plt.plot(param_range, test_mean, \n",
    "         color='green', linestyle='--', \n",
    "         marker='s', markersize=5, \n",
    "         label='validation accuracy')\n",
    "\n",
    "plt.fill_between(param_range, \n",
    "                 test_mean + test_std,\n",
    "                 test_mean - test_std, \n",
    "                 alpha=0.15, color='green')\n",
    "\n",
    "plt.xlabel('N Estimators'); plt.ylabel('Accuracy')\n",
    "plt.ylim([0.5, 1.05])\n",
    "plt.legend(loc='lower right')\n",
    "plt.tight_layout()\n",
    "plt.show()"
   ]
  },
  {
   "cell_type": "code",
   "execution_count": 25,
   "metadata": {
    "collapsed": false
   },
   "outputs": [
    {
     "data": {
      "image/png": "[encoded data removed]",
      "text/plain": [
       "<matplotlib.figure.Figure at 0x1154f6d90>"
      ]
     },
     "metadata": {},
     "output_type": "display_data"
    }
   ],
   "source": [
    "# plot validation curve only\n",
    "plt.plot(param_range, test_mean, \n",
    "         color='green', linestyle='--', \n",
    "         marker='s', markersize=5, \n",
    "         label='validation accuracy')\n",
    "\n",
    "plt.fill_between(param_range, \n",
    "                 test_mean + test_std,\n",
    "                 test_mean - test_std, \n",
    "                 alpha=0.15, color='green')\n",
    "\n",
    "plt.xlabel('N Estimators'); plt.ylabel('Accuracy')\n",
    "plt.ylim([0.70, 0.80])\n",
    "plt.legend(loc='lower right')\n",
    "plt.tight_layout()\n",
    "plt.show()"
   ]
  },
  {
   "cell_type": "markdown",
   "metadata": {},
   "source": [
    "# Grid Search Optimization"
   ]
  },
  {
   "cell_type": "code",
   "execution_count": 34,
   "metadata": {
    "collapsed": true
   },
   "outputs": [],
   "source": [
    "# tuning more than 1 hyperparameter\n",
    "from sklearn.model_selection import GridSearchCV\n",
    "\n",
    "# create parameter ranges\n",
    "# rf parameters for accuracy: max_features, n_estimators, min_sample_leaf\n",
    "# rf parameters for easier training: n_jobs, random_state, oob_score\n",
    "max_features = [2, 3, 4, 5]  # default is sqrt(n_features)\n",
    "min_sample_leaf = [8, 10, 12, 14, 16]  # default is 1\n",
    "\n",
    "# create hyperparameter \"grid\"\n",
    "hyperparameters = {\n",
    "    'max_features': max_features,\n",
    "    'min_samples_leaf': min_sample_leaf,\n",
    "    }"
   ]
  },
  {
   "cell_type": "code",
   "execution_count": 37,
   "metadata": {
    "collapsed": false
   },
   "outputs": [
    {
     "name": "stdout",
     "output_type": "stream",
     "text": [
      "The best performing max_features     value is: 2\n",
      "The best performing min_samples_leaf value is: 10\n"
     ]
    }
   ],
   "source": [
    "# create grid search object with embedded CV method\n",
    "gridCV = GridSearchCV(\n",
    "    RandomForestClassifier(n_estimators=100, random_state=1, n_jobs=-1),\n",
    "    param_grid=hyperparameters,\n",
    "    scoring='f1',  # try 'accuracy' and 'f1'\n",
    "    cv=10,\n",
    "    n_jobs=-1\n",
    "    )\n",
    "\n",
    "# perform grid search\n",
    "gridCV.fit(X, y)\n",
    "\n",
    "# identify optimal values\n",
    "best_max_features     = gridCV.best_params_['max_features']\n",
    "best_min_samples_leaf = gridCV.best_params_['min_samples_leaf']\n",
    "# best_n_estimators     = gridCV.best_params_['n_estimators']\n",
    "\n",
    "print(\"The best performing max_features     value is: {}\".format(best_max_features))\n",
    "print(\"The best performing min_samples_leaf value is: {}\".format(best_min_samples_leaf))"
   ]
  },
  {
   "cell_type": "code",
   "execution_count": 38,
   "metadata": {
    "collapsed": false
   },
   "outputs": [
    {
     "name": "stderr",
     "output_type": "stream",
     "text": [
      "/usr/local/lib/python2.7/site-packages/sklearn/model_selection/_search.py:667: DeprecationWarning: The grid_scores_ attribute was deprecated in version 0.18 in favor of the more elaborate cv_results_ attribute. The grid_scores_ attribute will not be available from 0.20\n",
      "  DeprecationWarning)\n"
     ]
    },
    {
     "data": {
      "image/png": "[encoded data removed]",
      "text/plain": [
       "<matplotlib.figure.Figure at 0x118110f90>"
      ]
     },
     "metadata": {},
     "output_type": "display_data"
    }
   ],
   "source": [
    "# plot grid search results\n",
    "def gridcv_heatmap(name1, range1, name2, range2):\n",
    "    # fetch scores, reshape into a grid\n",
    "    scores = [x[1] for x in gridCV.grid_scores_]\n",
    "    scores = np.array(scores).reshape(len(range1), len(range2))\n",
    "    scores = np.transpose(scores)\n",
    "\n",
    "    # Make heatmap from grid search results\n",
    "    plt.figure(figsize=(12, 6))\n",
    "    plt.imshow(scores, interpolation='nearest', origin='higher', cmap='jet_r')\n",
    "    plt.xticks(np.arange(len(range1)), range1); plt.xlabel(name1)\n",
    "    plt.yticks(np.arange(len(range2)), range2); plt.ylabel(name2)\n",
    "    plt.colorbar().set_label('Classification Score', rotation=270, labelpad=20)\n",
    "    plt.show()\n",
    "\n",
    "name1 = 'Max features'; range1 = max_features\n",
    "name2 = 'Min samples in leaf'; range2 = min_sample_leaf\n",
    "\n",
    "gridcv_heatmap(name1, range1, name2, range2)"
   ]
  },
  {
   "cell_type": "code",
   "execution_count": 51,
   "metadata": {
    "collapsed": true
   },
   "outputs": [],
   "source": [
    "# best accuracy: max_features = 3, min_samples = 12\n",
    "# best f1: max_features = 2, min_samples = 10"
   ]
  },
  {
   "cell_type": "code",
   "execution_count": 43,
   "metadata": {
    "collapsed": false,
    "scrolled": true
   },
   "outputs": [],
   "source": [
    "rf = RandomForestClassifier(\n",
    "    n_estimators=500,\n",
    "    min_samples_leaf=10,\n",
    "    max_features=2,\n",
    "    random_state=0,\n",
    "    n_jobs=-1)"
   ]
  },
  {
   "cell_type": "markdown",
   "metadata": {},
   "source": [
    "# Other Performance Metrics"
   ]
  },
  {
   "cell_type": "markdown",
   "metadata": {},
   "source": [
    "### confusion matrix"
   ]
  },
  {
   "cell_type": "code",
   "execution_count": 44,
   "metadata": {
    "collapsed": false
   },
   "outputs": [
    {
     "name": "stdout",
     "output_type": "stream",
     "text": [
      "[[11975  6829]\n",
      " [ 3968 27228]]\n"
     ]
    },
    {
     "data": {
      "image/png": "[encoded data removed]",
      "text/plain": [
       "<matplotlib.figure.Figure at 0x10b484810>"
      ]
     },
     "metadata": {},
     "output_type": "display_data"
    }
   ],
   "source": [
    "import itertools\n",
    "\n",
    "# create confusion matrix object\n",
    "y_pred = cross_val_predict(estimator=rf, X=X, y=y)\n",
    "cm_svc = metrics.confusion_matrix(y_true=y, y_pred=y_pred)\n",
    "print cm_svc\n",
    "\n",
    "# plot confusion matrix\n",
    "fig, ax = plt.subplots(figsize=(4, 4))\n",
    "ax.matshow(cm_svc, cmap=plt.cm.Blues, alpha=0.3)\n",
    "for i, j in itertools.product(range(cm_svc.shape[0]), range(cm_svc.shape[1])):\n",
    "    ax.text(x=j, y=i, s=cm_svc[i, j], va='center', ha='center')\n",
    "plt.xlabel('predicted label'); plt.ylabel('true label')\n",
    "plt.tight_layout()\n",
    "# plt.savefig('./figures/confusion_matrix.png', dpi=300)\n",
    "plt.show()\n",
    "\n",
    "# exercise: draw confusion matrix with fn/tp, tn/fp\n",
    "# exercise: define tpr and fpr in the context of the matrix, give an analogy for tpr and fpr\n",
    "# exercise: do the same for precision and recall"
   ]
  },
  {
   "cell_type": "markdown",
   "metadata": {},
   "source": [
    "### precision, recall, f1"
   ]
  },
  {
   "cell_type": "code",
   "execution_count": 54,
   "metadata": {
    "collapsed": false
   },
   "outputs": [
    {
     "name": "stdout",
     "output_type": "stream",
     "text": [
      "Precision: 0.798\n",
      "Recall: 0.873\n",
      "F1: 0.834\n"
     ]
    }
   ],
   "source": [
    "# Accuracy: correct predictions on positive and negative class\n",
    "# Error: incorrect predictions on positive and negative class\n",
    "\n",
    "# Precsion: % of cancer guesses that were correct\n",
    "# TPR/Recall: correctly diagnose people who are sick\n",
    "# FPR: misdiagnose people who are not sick\n",
    "\n",
    "# get precision and recall\n",
    "print 'Precision: %.3f' % metrics.precision_score(y_true=y_test, y_pred=y_pred)\n",
    "print 'Recall: %.3f' % metrics.recall_score(y_true=y_test, y_pred=y_pred)\n",
    "print 'F1: %.3f' % metrics.f1_score(y_true=y_test, y_pred=y_pred)\n",
    "\n",
    "# exercise: how is f1 calculated?  why is it the harmonic mean and not the geometric mean?"
   ]
  },
  {
   "cell_type": "markdown",
   "metadata": {},
   "source": [
    "### roc curve and auc"
   ]
  },
  {
   "cell_type": "code",
   "execution_count": 55,
   "metadata": {
    "collapsed": false
   },
   "outputs": [
    {
     "data": {
      "image/png": "[encoded data removed]",
      "text/plain": [
       "<matplotlib.figure.Figure at 0x10b5d2650>"
      ]
     },
     "metadata": {},
     "output_type": "display_data"
    }
   ],
   "source": [
    "from sklearn.model_selection import StratifiedKFold\n",
    "from scipy import interp\n",
    "\n",
    "# create cross validation object with fewer splits to make model worse\n",
    "# stratified kfold to preserve class distribution\n",
    "cv = list(StratifiedKFold(n_splits=3, random_state=1).split(X, y))\n",
    "\n",
    "# Plot roc curve\n",
    "fig = plt.figure(figsize=(7, 5))\n",
    "\n",
    "# loop through 3-fold cross-validation object\n",
    "for i, (train, test) in enumerate(cv):\n",
    "    # get scores\n",
    "    probas = rf.fit(X[train], y[train]).predict_proba(X[test])\n",
    "\n",
    "    # create vectors of fpr, tpr, thresholds\n",
    "    fpr, tpr, thresholds = metrics.roc_curve(y[test], probas[:, 1], pos_label=1)\n",
    "    \n",
    "    # area under the roc curve\n",
    "    roc_auc = metrics.auc(fpr, tpr)\n",
    "    \n",
    "    # plot\n",
    "    plt.plot(fpr,\n",
    "             tpr,\n",
    "             lw=1,\n",
    "             label='ROC fold %d (area = %0.2f)'\n",
    "                   % (i+1, roc_auc))\n",
    "\n",
    "plt.xlim([-0.05, 1.05]); plt.ylim([-0.05, 1.05])\n",
    "plt.xlabel('false positive rate'); plt.ylabel('true positive rate')\n",
    "plt.title('Receiver Operator Characteristic'); plt.legend(loc=\"lower right\")\n",
    "\n",
    "plt.tight_layout()\n",
    "plt.show()"
   ]
  },
  {
   "cell_type": "markdown",
   "metadata": {},
   "source": [
    "### precision recall curve"
   ]
  },
  {
   "cell_type": "code",
   "execution_count": 56,
   "metadata": {
    "collapsed": true
   },
   "outputs": [],
   "source": [
    "from scipy import interp\n",
    "\n",
    "# create cross validation object with fewer splits to make model worse\n",
    "# stratified kfold to preserve class distribution\n",
    "cv = list(StratifiedKFold(n_splits=3, random_state=1).split(X, y))"
   ]
  },
  {
   "cell_type": "code",
   "execution_count": 57,
   "metadata": {
    "collapsed": false
   },
   "outputs": [
    {
     "data": {
      "image/png": "[encoded data removed]",
      "text/plain": [
       "<matplotlib.figure.Figure at 0x10fa53250>"
      ]
     },
     "metadata": {},
     "output_type": "display_data"
    }
   ],
   "source": [
    "# Plot precision-recall curves\n",
    "fig = plt.figure(figsize=(7, 5))\n",
    "\n",
    "# loop through 3-fold cross-validation object\n",
    "for i, (train, test) in enumerate(cv):\n",
    "\n",
    "    # get scores\n",
    "    probas = rf.fit(X[train], y[train]).predict_proba(X[test])\n",
    "\n",
    "    # create vectors of fpr, tpr, thresholds\n",
    "    precision, recall, thresholds = metrics.precision_recall_curve(y[test], probas[:, 1], pos_label=1)\n",
    "    # score\n",
    "    aps = round(metrics.average_precision_score(y_true=y[test], y_score=probas[:, 1]), 3)\n",
    "    \n",
    "    # plot\n",
    "    plt.plot(recall, precision, lw=1, label='PR Fold {0} - APS {1}'.format(str(i), aps))\n",
    "\n",
    "# labels\n",
    "plt.xlim([-0.05, 1.05]); plt.ylim([-0.05, 1.05])\n",
    "plt.xlabel('recall'); plt.ylabel('precision')\n",
    "plt.title('Precision-Recall Curve'); plt.legend(loc=\"lower right\")\n",
    "plt.tight_layout()\n",
    "plt.show()"
   ]
  },
  {
   "cell_type": "markdown",
   "metadata": {},
   "source": [
    "### summary report"
   ]
  },
  {
   "cell_type": "code",
   "execution_count": 46,
   "metadata": {
    "collapsed": false
   },
   "outputs": [
    {
     "name": "stdout",
     "output_type": "stream",
     "text": [
      "ROC AUC: 0.755\n",
      "Accuracy: 0.784\n",
      "Classification Report: \n",
      "\n",
      "              precision    recall  f1-score   support\n",
      "\n",
      "          0       0.75      0.64      0.69     18804\n",
      "          1       0.80      0.87      0.83     31196\n",
      "\n",
      "avg / total       0.78      0.78      0.78     50000\n",
      "\n"
     ]
    }
   ],
   "source": [
    "print('ROC AUC: %.3f' % metrics.roc_auc_score(y_true=y, y_score=y_pred))\n",
    "print('Accuracy: %.3f' % metrics.accuracy_score(y_true=y, y_pred=y_pred))\n",
    "print('Classification Report: \\n\\n {0}'.format(metrics.classification_report(y, y_pred)))"
   ]
  },
  {
   "cell_type": "markdown",
   "metadata": {},
   "source": [
    "# Feature Importance"
   ]
  },
  {
   "cell_type": "code",
   "execution_count": 39,
   "metadata": {
    "collapsed": false
   },
   "outputs": [
    {
     "data": {
      "text/plain": [
       "<matplotlib.axes._subplots.AxesSubplot at 0x1127401d0>"
      ]
     },
     "execution_count": 39,
     "metadata": {},
     "output_type": "execute_result"
    },
    {
     "data": {
      "image/png": "[encoded data removed]",
      "text/plain": [
       "<matplotlib.figure.Figure at 0x1105b0e50>"
      ]
     },
     "metadata": {},
     "output_type": "display_data"
    }
   ],
   "source": [
    "# check relative importance of features as an fyi\n",
    "rf_importances = rf.feature_importances_.tolist()\n",
    "pd.Series(rf_importances, index=features).sort_values(ascending=False).plot(kind='bar')"
   ]
  }
 ],
 "metadata": {
  "kernelspec": {
   "display_name": "Python 2",
   "language": "python",
   "name": "python2"
  },
  "language_info": {
   "codemirror_mode": {
    "name": "ipython",
    "version": 2
   },
   "file_extension": ".py",
   "mimetype": "text/x-python",
   "name": "python",
   "nbconvert_exporter": "python",
   "pygments_lexer": "ipython2",
   "version": "2.7.11"
  }
 },
 "nbformat": 4,
 "nbformat_minor": 0
}
